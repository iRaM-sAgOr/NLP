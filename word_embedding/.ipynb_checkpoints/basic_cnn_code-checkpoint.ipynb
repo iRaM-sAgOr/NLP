{
 "cells": [
  {
   "cell_type": "code",
   "execution_count": 0,
   "metadata": {
    "colab": {},
    "colab_type": "code",
    "id": "IRu9tTdOkuJW"
   },
   "outputs": [],
   "source": [
    "import random\n",
    "import itertools\n",
    "import numpy as np\n",
    "import tensorflow as tf\n",
    "from keras.datasets import cifar10\n",
    "from keras import backend as K\n",
    "from keras import Sequential, utils\n",
    "# from keras.layers import Conv2D, MaxPooling2D\n",
    "from keras.layers import Conv2D, Dense, MaxPooling2D, Flatten\n",
    "from keras.optimizers import Adam \n",
    "from keras import layers\n",
    "from keras.layers.normalization import BatchNormalization"
   ]
  },
  {
   "cell_type": "code",
   "execution_count": 0,
   "metadata": {
    "colab": {},
    "colab_type": "code",
    "id": "1DIlZfK2kuJ-"
   },
   "outputs": [],
   "source": [
    "def create_model():\n",
    "    model = Sequential()\n",
    "    \n",
    "    conv1 = Conv2D(70, (3, 3), strides=(1, 1), padding='same', input_shape=(32, 32, 3), activation=\"relu\")\n",
    "    pool1 = MaxPooling2D(pool_size=2)\n",
    "    conv2 = Conv2D(55, (3, 3), strides=(1, 1), padding='valid', activation=\"relu\")\n",
    "    pool2 = MaxPooling2D(pool_size=2)\n",
    "    conv3 = Conv2D(45, (3, 3), strides=(1, 1), padding='valid', activation=\"relu\")\n",
    "    pool3 = MaxPooling2D(pool_size=2)\n",
    "    conv4 = Conv2D(35, (3, 3), strides=(1, 1), padding='valid', activation=\"relu\")\n",
    "    pool4 = MaxPooling2D(pool_size=2)\n",
    "    flatten_l = Flatten()\n",
    "    dense1 = Dense(450, activation='relu')\n",
    "    dense2 = Dense(250, activation='relu')\n",
    "    dense3 = Dense(100, activation='relu')\n",
    "    output = Dense(10, activation='softmax')\n",
    "\n",
    "    model.add(conv1)\n",
    "    #model.add(pool1)\n",
    "    model.add(BatchNormalization())\n",
    "    model.add(conv2)\n",
    "    model.add(BatchNormalization())\n",
    "    model.add(pool2)\n",
    "    model.add(conv3)\n",
    "    model.add(pool3)\n",
    "    model.add(BatchNormalization())\n",
    "    model.add(conv4)\n",
    "    model.add(BatchNormalization())\n",
    "    model.add(pool4)\n",
    "    model.add(flatten_l)\n",
    "    model.add(dense1)\n",
    "    model.add(BatchNormalization())\n",
    "    model.add(layers.Dropout(0.5))\n",
    "    model.add(dense2)\n",
    "    model.add(BatchNormalization())\n",
    "    model.add(layers.Dropout(0.5))\n",
    "    model.add(dense3)\n",
    "    model.add(BatchNormalization())\n",
    "    model.add(layers.Dropout(0.5))\n",
    "    model.add(output)\n",
    "                   \n",
    "    model.compile(optimizer=Adam(lr = .001), loss='categorical_crossentropy', metrics=['accuracy'])\n",
    "                   \n",
    "    return model"
   ]
  },
  {
   "cell_type": "code",
   "execution_count": 0,
   "metadata": {
    "colab": {},
    "colab_type": "code",
    "id": "gkZER5AskuKO"
   },
   "outputs": [],
   "source": [
    "np.random.seed(1)\n",
    "random.seed(1)\n",
    "session_conf = tf.ConfigProto(intra_op_parallelism_threads=1,\n",
    "                              inter_op_parallelism_threads=1)\n",
    "\n",
    "tf.set_random_seed(1)\n",
    "sess = tf.Session(graph=tf.get_default_graph(), config=session_conf)\n",
    "K.set_session(sess)"
   ]
  },
  {
   "cell_type": "code",
   "execution_count": 0,
   "metadata": {
    "colab": {},
    "colab_type": "code",
    "id": "gPhyDbiPkuKb"
   },
   "outputs": [],
   "source": [
    "(x_train,y_train),(x_test,y_test) = cifar10.load_data()"
   ]
  },
  {
   "cell_type": "code",
   "execution_count": 0,
   "metadata": {
    "colab": {},
    "colab_type": "code",
    "id": "adNBYINmkuKn"
   },
   "outputs": [],
   "source": [
    "y_train = utils.to_categorical(y_train, 10)\n",
    "y_test = utils.to_categorical(y_test, 10)"
   ]
  },
  {
   "cell_type": "code",
   "execution_count": 0,
   "metadata": {
    "colab": {},
    "colab_type": "code",
    "id": "teGAEIf2kuLB"
   },
   "outputs": [],
   "source": [
    "# normalization\n",
    "x_train = (x_train - x_train.min(axis=0)) / (x_train.max(axis=0) - x_train.min(axis=0))\n",
    "x_test = (x_test - x_test.min(axis=0)) / (x_test.max(axis=0) - x_test.min(axis=0))"
   ]
  },
  {
   "cell_type": "code",
   "execution_count": 93,
   "metadata": {
    "colab": {
     "base_uri": "https://localhost:8080/",
     "height": 1979
    },
    "colab_type": "code",
    "executionInfo": {
     "elapsed": 1566429,
     "status": "ok",
     "timestamp": 1553163369347,
     "user": {
      "displayName": "ikramulhaq sagor",
      "photoUrl": "https://lh6.googleusercontent.com/-kaGRd6bVZj8/AAAAAAAAAAI/AAAAAAAAA4Q/IS_GQzSiKHA/s64/photo.jpg",
      "userId": "05063874681058892168"
     },
     "user_tz": -360
    },
    "id": "nhnOyUERkuLQ",
    "outputId": "d3206f32-7df4-4e93-fc41-a158cb78f13a",
    "scrolled": true
   },
   "outputs": [
    {
     "name": "stdout",
     "output_type": "stream",
     "text": [
      "_________________________________________________________________\n",
      "Layer (type)                 Output Shape              Param #   \n",
      "=================================================================\n",
      "conv2d_61 (Conv2D)           (None, 32, 32, 70)        1960      \n",
      "_________________________________________________________________\n",
      "batch_normalization_48 (Batc (None, 32, 32, 70)        280       \n",
      "_________________________________________________________________\n",
      "conv2d_62 (Conv2D)           (None, 30, 30, 55)        34705     \n",
      "_________________________________________________________________\n",
      "batch_normalization_49 (Batc (None, 30, 30, 55)        220       \n",
      "_________________________________________________________________\n",
      "max_pooling2d_62 (MaxPooling (None, 15, 15, 55)        0         \n",
      "_________________________________________________________________\n",
      "conv2d_63 (Conv2D)           (None, 13, 13, 45)        22320     \n",
      "_________________________________________________________________\n",
      "max_pooling2d_63 (MaxPooling (None, 6, 6, 45)          0         \n",
      "_________________________________________________________________\n",
      "batch_normalization_50 (Batc (None, 6, 6, 45)          180       \n",
      "_________________________________________________________________\n",
      "conv2d_64 (Conv2D)           (None, 4, 4, 35)          14210     \n",
      "_________________________________________________________________\n",
      "batch_normalization_51 (Batc (None, 4, 4, 35)          140       \n",
      "_________________________________________________________________\n",
      "max_pooling2d_64 (MaxPooling (None, 2, 2, 35)          0         \n",
      "_________________________________________________________________\n",
      "flatten_16 (Flatten)         (None, 140)               0         \n",
      "_________________________________________________________________\n",
      "dense_61 (Dense)             (None, 450)               63450     \n",
      "_________________________________________________________________\n",
      "batch_normalization_52 (Batc (None, 450)               1800      \n",
      "_________________________________________________________________\n",
      "dropout_37 (Dropout)         (None, 450)               0         \n",
      "_________________________________________________________________\n",
      "dense_62 (Dense)             (None, 250)               112750    \n",
      "_________________________________________________________________\n",
      "batch_normalization_53 (Batc (None, 250)               1000      \n",
      "_________________________________________________________________\n",
      "dropout_38 (Dropout)         (None, 250)               0         \n",
      "_________________________________________________________________\n",
      "dense_63 (Dense)             (None, 100)               25100     \n",
      "_________________________________________________________________\n",
      "batch_normalization_54 (Batc (None, 100)               400       \n",
      "_________________________________________________________________\n",
      "dropout_39 (Dropout)         (None, 100)               0         \n",
      "_________________________________________________________________\n",
      "dense_64 (Dense)             (None, 10)                1010      \n",
      "=================================================================\n",
      "Total params: 279,525\n",
      "Trainable params: 277,515\n",
      "Non-trainable params: 2,010\n",
      "_________________________________________________________________\n",
      "Train on 50000 samples, validate on 10000 samples\n",
      "Epoch 1/30\n",
      "50000/50000 [==============================] - 59s 1ms/step - loss: 1.8112 - acc: 0.3662 - val_loss: 1.4418 - val_acc: 0.4848\n",
      "Epoch 2/30\n",
      "50000/50000 [==============================] - 53s 1ms/step - loss: 1.2741 - acc: 0.5487 - val_loss: 1.2514 - val_acc: 0.5624\n",
      "Epoch 3/30\n",
      "50000/50000 [==============================] - 52s 1ms/step - loss: 1.0996 - acc: 0.6191 - val_loss: 1.0219 - val_acc: 0.6355\n",
      "Epoch 4/30\n",
      "50000/50000 [==============================] - 52s 1ms/step - loss: 0.9921 - acc: 0.6603 - val_loss: 0.9832 - val_acc: 0.6548\n",
      "Epoch 5/30\n",
      "50000/50000 [==============================] - 52s 1ms/step - loss: 0.9177 - acc: 0.6890 - val_loss: 0.8602 - val_acc: 0.6965\n",
      "Epoch 6/30\n",
      "50000/50000 [==============================] - 52s 1ms/step - loss: 0.8568 - acc: 0.7112 - val_loss: 0.8903 - val_acc: 0.6919\n",
      "Epoch 7/30\n",
      "50000/50000 [==============================] - 52s 1ms/step - loss: 0.8122 - acc: 0.7277 - val_loss: 0.8927 - val_acc: 0.6897\n",
      "Epoch 8/30\n",
      "50000/50000 [==============================] - 52s 1ms/step - loss: 0.7726 - acc: 0.7423 - val_loss: 0.8021 - val_acc: 0.7227\n",
      "Epoch 9/30\n",
      "50000/50000 [==============================] - 52s 1ms/step - loss: 0.7420 - acc: 0.7553 - val_loss: 0.7667 - val_acc: 0.7353\n",
      "Epoch 10/30\n",
      "50000/50000 [==============================] - 52s 1ms/step - loss: 0.7110 - acc: 0.7656 - val_loss: 0.7177 - val_acc: 0.7487\n",
      "Epoch 11/30\n",
      "50000/50000 [==============================] - 52s 1ms/step - loss: 0.6842 - acc: 0.7749 - val_loss: 0.7377 - val_acc: 0.7467\n",
      "Epoch 12/30\n",
      "50000/50000 [==============================] - 52s 1ms/step - loss: 0.6611 - acc: 0.7827 - val_loss: 0.7533 - val_acc: 0.7431\n",
      "Epoch 13/30\n",
      "50000/50000 [==============================] - 52s 1ms/step - loss: 0.6383 - acc: 0.7903 - val_loss: 0.6761 - val_acc: 0.7709\n",
      "Epoch 14/30\n",
      "50000/50000 [==============================] - 52s 1ms/step - loss: 0.6202 - acc: 0.7963 - val_loss: 0.6828 - val_acc: 0.7691\n",
      "Epoch 15/30\n",
      "50000/50000 [==============================] - 52s 1ms/step - loss: 0.5946 - acc: 0.8056 - val_loss: 0.6615 - val_acc: 0.7764\n",
      "Epoch 16/30\n",
      "50000/50000 [==============================] - 51s 1ms/step - loss: 0.5791 - acc: 0.8096 - val_loss: 0.6956 - val_acc: 0.7661\n",
      "Epoch 17/30\n",
      "50000/50000 [==============================] - 51s 1ms/step - loss: 0.5645 - acc: 0.8145 - val_loss: 0.6864 - val_acc: 0.7699\n",
      "Epoch 18/30\n",
      "50000/50000 [==============================] - 51s 1ms/step - loss: 0.5470 - acc: 0.8211 - val_loss: 0.7051 - val_acc: 0.7618\n",
      "Epoch 19/30\n",
      "50000/50000 [==============================] - 51s 1ms/step - loss: 0.5347 - acc: 0.8263 - val_loss: 0.7061 - val_acc: 0.7635\n",
      "Epoch 20/30\n",
      "50000/50000 [==============================] - 51s 1ms/step - loss: 0.5177 - acc: 0.8310 - val_loss: 0.6761 - val_acc: 0.7769\n",
      "Epoch 21/30\n",
      "50000/50000 [==============================] - 51s 1ms/step - loss: 0.5124 - acc: 0.8328 - val_loss: 0.6685 - val_acc: 0.7801\n",
      "Epoch 22/30\n",
      "50000/50000 [==============================] - 51s 1ms/step - loss: 0.4939 - acc: 0.8377 - val_loss: 0.6852 - val_acc: 0.7733\n",
      "Epoch 23/30\n",
      "50000/50000 [==============================] - 51s 1ms/step - loss: 0.4789 - acc: 0.8443 - val_loss: 0.6822 - val_acc: 0.7789\n",
      "Epoch 24/30\n",
      "50000/50000 [==============================] - 51s 1ms/step - loss: 0.4767 - acc: 0.8441 - val_loss: 0.7384 - val_acc: 0.7601\n",
      "Epoch 25/30\n",
      "50000/50000 [==============================] - 51s 1ms/step - loss: 0.4659 - acc: 0.8483 - val_loss: 0.6712 - val_acc: 0.7845\n",
      "Epoch 26/30\n",
      "50000/50000 [==============================] - 51s 1ms/step - loss: 0.4466 - acc: 0.8531 - val_loss: 0.7181 - val_acc: 0.7678\n",
      "Epoch 27/30\n",
      "50000/50000 [==============================] - 51s 1ms/step - loss: 0.4420 - acc: 0.8560 - val_loss: 0.7060 - val_acc: 0.7781\n",
      "Epoch 28/30\n",
      "50000/50000 [==============================] - 51s 1ms/step - loss: 0.4385 - acc: 0.8564 - val_loss: 0.7021 - val_acc: 0.7778\n",
      "Epoch 29/30\n",
      "50000/50000 [==============================] - 51s 1ms/step - loss: 0.4271 - acc: 0.8608 - val_loss: 0.6957 - val_acc: 0.7809\n",
      "Epoch 30/30\n",
      "50000/50000 [==============================] - 51s 1ms/step - loss: 0.4192 - acc: 0.8613 - val_loss: 0.7171 - val_acc: 0.7759\n"
     ]
    },
    {
     "data": {
      "text/plain": [
       "<keras.callbacks.History at 0x7f23cb46be80>"
      ]
     },
     "execution_count": 93,
     "metadata": {
      "tags": []
     },
     "output_type": "execute_result"
    }
   ],
   "source": [
    "cnn_model = create_model()\n",
    "cnn_model.summary()\n",
    "\n",
    "cnn_model.fit(x_train, y_train, epochs=30, validation_data=(x_test, y_test))"
   ]
  },
  {
   "cell_type": "code",
   "execution_count": 0,
   "metadata": {
    "colab": {},
    "colab_type": "code",
    "id": "9WktUUeSkuLq"
   },
   "outputs": [],
   "source": []
  },
  {
   "cell_type": "code",
   "execution_count": 0,
   "metadata": {
    "colab": {},
    "colab_type": "code",
    "id": "hdGT_C0TjJa1"
   },
   "outputs": [],
   "source": []
  },
  {
   "cell_type": "code",
   "execution_count": 0,
   "metadata": {
    "colab": {},
    "colab_type": "code",
    "id": "teGVkbSBkuL6"
   },
   "outputs": [],
   "source": []
  }
 ],
 "metadata": {
  "accelerator": "GPU",
  "colab": {
   "name": "basic_cnn_code.ipynb",
   "provenance": [],
   "version": "0.3.2"
  },
  "kernelspec": {
   "display_name": "Python 3",
   "name": "python3"
  }
 },
 "nbformat": 4,
 "nbformat_minor": 1
}
